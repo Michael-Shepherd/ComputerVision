{
 "cells": [
  {
   "cell_type": "code",
   "execution_count": 1,
   "metadata": {},
   "outputs": [],
   "source": [
    "import matplotlib.pyplot as plt\n",
    "from IPython.display import display, Math\n",
    "from mpl_toolkits.mplot3d import Axes3D\n",
    "%matplotlib inline\n",
    "from skimage import data,filters\n",
    "import scipy.ndimage as ndimage\n",
    "import numpy as np\n",
    "from PIL import Image\n",
    "from math import floor, ceil\n",
    "import cv2\n",
    "import os\n",
    "import math\n",
    "import random\n",
    "import pandas as pd\n",
    "image_dir = \"../../CVassignment5_files\""
   ]
  },
  {
   "cell_type": "markdown",
   "metadata": {},
   "source": [
    "# Question 1\n",
    "## 1a"
   ]
  },
  {
   "cell_type": "code",
   "execution_count": 71,
   "metadata": {
    "scrolled": false
   },
   "outputs": [
    {
     "name": "stdout",
     "output_type": "stream",
     "text": [
      "2.23606797749979\n",
      "2.23606797749979\n",
      "2.23606797749979\n",
      "2.23606797749979\n",
      "2.23606797749979\n",
      "Average Vector:\n"
     ]
    },
    {
     "data": {
      "text/plain": [
       "<matplotlib.image.AxesImage at 0x7fe6bf80ba90>"
      ]
     },
     "execution_count": 71,
     "metadata": {},
     "output_type": "execute_result"
    },
    {
     "data": {
      "image/png": "[encoded data removed]",
      "text/plain": [
       "<Figure size 432x288 with 1 Axes>"
      ]
     },
     "metadata": {
      "needs_background": "light"
     },
     "output_type": "display_data"
    }
   ],
   "source": [
    "training_path = f\"{image_dir}/problem1_files/faces_training\"\n",
    "test_path = f\"{image_dir}/problem1_files/faces_test\"\n",
    "training_images = [plt.imread(f\"{training_path}/{x}\") for x in os.listdir(training_path)]\n",
    "\n",
    "alpha = 20\n",
    "\n",
    "def lower_rank_SVD(image, al):\n",
    "    U, S, V = np.linalg.svd(image, full_matrices=False)\n",
    "    S[al:] = 0\n",
    "    S = np.diag(S)\n",
    "    return U, S, V\n",
    "\n",
    "def get_a(training_images):\n",
    "    a_ = np.zeros(training_images[0].shape[0] * training_images[0].shape[1])\n",
    "    for image in training_images:\n",
    "        U, S, V = lower_rank_SVD(image, alpha)\n",
    "        a_ = a_ + image.flatten()\n",
    "    a_ = a_/len(training_images)\n",
    "    return a_\n",
    "\n",
    "def get_X(training_images, a_):\n",
    "    X = np.array(np.zeros(len(a_)))\n",
    "    X.reshape(len(a_), 1)\n",
    "    for image in training_images:\n",
    "        f = image.flatten()\n",
    "        x = f - a_\n",
    "        X = np.vstack((X, x))\n",
    "        print(np.sqrt(len(training_images)))\n",
    "    X = np.delete(X, 0, 0)\n",
    "    return X.T/np.sqrt(len(training_images))\n",
    "\n",
    "training_images = training_images[:5]\n",
    "a_ = get_a(training_images)\n",
    "X = get_X(training_images, a_)\n",
    "print(\"Average Vector:\")\n",
    "plt.imshow(a_.reshape(training_images[0].shape[0], training_images[0].shape[1]).astype(np.uint8), cmap='gray')"
   ]
  },
  {
   "cell_type": "code",
   "execution_count": 72,
   "metadata": {},
   "outputs": [],
   "source": [
    "U, S, V = np.linalg.svd(X)"
   ]
  },
  {
   "cell_type": "code",
   "execution_count": 77,
   "metadata": {},
   "outputs": [
    {
     "name": "stdout",
     "output_type": "stream",
     "text": [
      "[[  9.92814182 -28.0850138    3.21993789   4.56157867  10.37535542]\n",
      " [  8.58650103 -27.19058661   4.11436508   4.56157867   9.92814182]\n",
      " [  8.94427191 -25.04396135   1.78885438   5.36656315   8.94427191]\n",
      " ...\n",
      " [ 10.64368357  -3.21993789 -10.82256901  -4.56157867   7.960402  ]\n",
      " [  8.49705831  -4.47213595  -7.15541753  -4.02492236   7.15541753]\n",
      " [ 10.10702726  -4.65102139  -6.88708937  -5.54544858   6.97653209]]\n",
      "U =\n",
      "[[-6.82241351e-03 -1.41943797e-03  1.73919190e-02 ... -3.33986500e-03\n",
      "  -1.37302748e-03 -9.13395103e-04]\n",
      " [-6.64319840e-03 -8.79325406e-04  1.66607500e-02 ...  3.67412361e-04\n",
      "  -8.88488061e-04 -6.21840485e-04]\n",
      " [-5.55564816e-03 -1.30478655e-03  1.61153963e-02 ... -8.31631152e-03\n",
      "  -6.53893251e-03 -6.41733203e-03]\n",
      " ...\n",
      " [-1.99564897e-03 -3.52934774e-03  2.86947942e-03 ...  9.99860829e-01\n",
      "  -1.03687492e-04 -1.06741931e-04]\n",
      " [-2.39472402e-03 -2.59641978e-03  2.99429808e-03 ... -1.11323170e-04\n",
      "   9.99913424e-01 -9.10166577e-05]\n",
      " [-2.90178789e-03 -3.54901575e-03  2.63073067e-03 ... -1.19481736e-04\n",
      "  -9.37052580e-05  9.99899556e-01]]\n",
      "S =\n",
      "[2.60826291e+03 1.77818913e+03 1.52465182e+03 1.40252670e+03\n",
      " 1.72024837e-12]\n",
      "V =\n",
      "[[-0.17576249  0.45124646 -0.42343842  0.61027883 -0.46232438]\n",
      " [-0.82301547  0.03349543  0.07075527  0.18878652  0.52997825]\n",
      " [ 0.17897619 -0.75254439 -0.15867898  0.59890296  0.13334423]\n",
      " [-0.24437802 -0.17009299  0.76844946  0.1823037  -0.53628215]\n",
      " [-0.4472136  -0.4472136  -0.4472136  -0.4472136  -0.4472136 ]]\n"
     ]
    }
   ],
   "source": [
    "print(X)\n",
    "print(\"U =\\n{}\".format(U))\n",
    "print(\"S =\\n{}\".format(S))\n",
    "print(\"V =\\n{}\".format(V))\n",
    "# for i in range(0, alpha):\n",
    "#     eig = U[:,i].reshape(training_images[0].shape[0], training_images[0].shape[1]).astype(np.uint8)\n",
    "#     plt.imshow(eig, cmap='gray')\n",
    "#     plt.show()\n"
   ]
  },
  {
   "cell_type": "code",
   "execution_count": null,
   "metadata": {},
   "outputs": [],
   "source": []
  }
 ],
 "metadata": {
  "kernelspec": {
   "display_name": "Python 3",
   "language": "python",
   "name": "python3"
  },
  "language_info": {
   "codemirror_mode": {
    "name": "ipython",
    "version": 3
   },
   "file_extension": ".py",
   "mimetype": "text/x-python",
   "name": "python",
   "nbconvert_exporter": "python",
   "pygments_lexer": "ipython3",
   "version": "3.6.8"
  }
 },
 "nbformat": 4,
 "nbformat_minor": 2
}
